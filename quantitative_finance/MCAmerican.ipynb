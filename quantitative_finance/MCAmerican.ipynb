{
 "cells": [
  {
   "cell_type": "code",
   "execution_count": null,
   "metadata": {},
   "outputs": [],
   "source": [
    "from inaccel.vitis.fintech import MCAmerican, OptionType"
   ]
  },
  {
   "cell_type": "code",
   "execution_count": null,
   "metadata": {},
   "outputs": [],
   "source": [
    "mcAmerican = MCAmerican()"
   ]
  },
  {
   "cell_type": "code",
   "execution_count": null,
   "metadata": {},
   "outputs": [],
   "source": [
    "iterations = 100\n",
    "\n",
    "# financial variables\n",
    "initialStockPrice = 36.0\n",
    "initialStrikePrice = 40.0\n",
    "initialRiskFreeRate = 0.06\n",
    "initialDividendYield = 0.0\n",
    "initialVolatility = 0.2\n",
    "initialTimeToMaturity = 1.0 # in years\n",
    "initialRequiredTolerance = 0.02\n",
    "varianceFactor = 0.01 # this is used to vary the data in each iteration of the loop"
   ]
  },
  {
   "cell_type": "code",
   "execution_count": null,
   "metadata": {},
   "outputs": [],
   "source": [
    "print(\"+-----------+-------------+--------------+-----------+------------+------------+--------------+----------------+\")\n",
    "print(\"| Iteration | Stock Price | Strike Price | Risk Free | Div. Yield | Volatility | Option Price | Execution Time |\")\n",
    "print(\"+-----------+-------------+--------------+-----------+------------+------------+--------------+----------------+\")\n",
    "\n",
    "for loop in range(0,iterations) :\n",
    "    variance = (1.0 + (varianceFactor * loop))\n",
    "\n",
    "    stockPrice = initialStockPrice * variance\n",
    "    strikePrice = initialStrikePrice * variance\n",
    "    riskFreeRate = initialRiskFreeRate * variance\n",
    "    dividendYield = initialDividendYield * variance\n",
    "    volatility = initialVolatility * variance\n",
    "\n",
    "    timeToMaturity = initialTimeToMaturity\n",
    "    requiredTolerance = initialRequiredTolerance\n",
    "\n",
    "    runtime = 0\n",
    "\n",
    "    result = mcAmerican.run(OptionType.Put, stockPrice, strikePrice, riskFreeRate, dividendYield, volatility, timeToMaturity, requiredTolerance)\n",
    "\n",
    "    runtime = mcAmerican.lastruntime()\n",
    "\n",
    "    print(\"|%10d\" % loop, \"|%12.4f\" % stockPrice, \"|%13.4f\" % strikePrice, \"|%10.4f\" % riskFreeRate,\n",
    "          \"|%11.4f\" % dividendYield, \"|%11.4f\" % volatility, \"|%13.4f\" % result, \"|%12d us |\" % runtime)\n",
    "\n",
    "print(\"+-----------+-------------+--------------+-----------+------------+------------+--------------+----------------+\")"
   ]
  }
 ],
 "metadata": {
  "kernelspec": {
   "display_name": "Python 3",
   "language": "python",
   "name": "python3"
  },
  "language_info": {
   "codemirror_mode": {
    "name": "ipython",
    "version": 3
   },
   "file_extension": ".py",
   "mimetype": "text/x-python",
   "name": "python",
   "nbconvert_exporter": "python",
   "pygments_lexer": "ipython3",
   "version": "3.7.3"
  }
 },
 "nbformat": 4,
 "nbformat_minor": 4
}
