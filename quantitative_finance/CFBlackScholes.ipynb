{
 "cells": [
  {
   "cell_type": "code",
   "execution_count": null,
   "metadata": {},
   "outputs": [],
   "source": [
    "from inaccel.vitis.fintech import CFBlackScholes, OptionType"
   ]
  },
  {
   "cell_type": "code",
   "execution_count": null,
   "metadata": {},
   "outputs": [],
   "source": [
    "numAssets = 100000\n",
    "\n",
    "cfBlackScholes = CFBlackScholes(numAssets)"
   ]
  },
  {
   "cell_type": "code",
   "execution_count": null,
   "metadata": {},
   "outputs": [],
   "source": [
    "cfBlackScholes.stockPrice.fill(100.0)\n",
    "cfBlackScholes.strikePrice.fill(100.0)\n",
    "cfBlackScholes.volatility.fill(0.1)\n",
    "cfBlackScholes.riskFreeRate.fill(0.025)\n",
    "cfBlackScholes.timeToMaturity.fill(1.0)"
   ]
  },
  {
   "cell_type": "code",
   "execution_count": null,
   "metadata": {},
   "outputs": [],
   "source": [
    "cfBlackScholes.run(OptionType.Put, numAssets)"
   ]
  },
  {
   "cell_type": "code",
   "execution_count": null,
   "metadata": {},
   "outputs": [],
   "source": [
    "print(\"+-------+-----------+----------------+--------------+---------------+---------------+---------------+\")\n",
    "print(\"| Index | Price     |     Delta      |     Gamma    |     Vega      |     Theta     |     Rho       |\")\n",
    "print(\"+-------+-----------+----------------+--------------+---------------+---------------+---------------+\")\n",
    "\n",
    "for loop in range(0, 15) :\n",
    "    print(loop,\"\\t%9.5f\"%cfBlackScholes.optionPrice[loop],\"\\t%9.5f\"%cfBlackScholes.delta[loop],\\\n",
    "          \"\\t%9.5f\"%cfBlackScholes.gamma[loop],\"\\t%9.5f\"%cfBlackScholes.vega[loop],\\\n",
    "          \"\\t%9.5f\"%cfBlackScholes.theta[loop],\"\\t%9.5f\"%cfBlackScholes.rho[loop])"
   ]
  },
  {
   "cell_type": "code",
   "execution_count": null,
   "metadata": {},
   "outputs": [],
   "source": [
    "print(\"This run took\", cfBlackScholes.lastruntime(), \"microseconds\")"
   ]
  },
  {
   "cell_type": "code",
   "execution_count": null,
   "metadata": {},
   "outputs": [],
   "source": [
    "import math\n",
    "import numpy as np\n",
    "import time"
   ]
  },
  {
   "cell_type": "code",
   "execution_count": null,
   "metadata": {},
   "outputs": [],
   "source": [
    "def phi(x):\n",
    "    x_ret = np.array(x)\n",
    "    sqrt2 = math.sqrt(2.0)\n",
    "    for i in range(0, x.size):\n",
    "        x_ret[i] =  0.5 * math.erfc(-x[i] / sqrt2)\n",
    "    return x_ret\n",
    "\n",
    "def CFBlackScholesSW(s,v, r, t, k, q, call):\n",
    "    d1 = (np.log(s / k) + (r - q + v * v / 2.0) * t) / (v * np.sqrt(t))\n",
    "    d2 = d1 - v * np.sqrt(t)\n",
    "\n",
    "    pdf_d1 = (1.0 / np.sqrt(2 * np.pi)) * np.exp(-0.5 * d1 * d1)\n",
    "\n",
    "    if (call):\n",
    "        price = s * phi(d1) * np.exp(-q * t) - k * phi(d2) * np.exp(-r * t)\n",
    "        delta = np.exp(-q * t) * phi(d1)\n",
    "        theta = (1.0 / 365) * (-v * s * np.exp(-q * t) * pdf_d1 / (2 * np.sqrt(t)) + q * s * np.exp(-q * t) * phi(d1) - r * k * np.exp(-r * t) * phi(d2));\n",
    "        rho = (1.0 / 100) * k * t * np.exp(-r * t) * phi(d2)\n",
    "    else:\n",
    "        price = phi(-d2) * k * np.exp(-r * t) - phi(-d1) * s * np.exp(-q * t);\n",
    "        delta = np.exp(-q * t) * (phi(d1) - 1)\n",
    "        theta = (1.0 / 365) * (-v * s * np.exp(-q * t) * pdf_d1 / (2 * np.sqrt(t)) - q * s * np.exp(-q * t) * phi(-d1) + r * k * np.exp(-r * t) * phi(-d2))\n",
    "        rho = (-1.0 / 100) * k * t * np.exp(-r * t) * phi(-d2)\n",
    "\n",
    "    gamma = np.exp(-q * t) * np.exp(-d1 * d1 / 2) / (s * v * np.sqrt(t) * np.sqrt(2 * np.pi));\n",
    "    vega = (1.0 / 100) * s * np.exp(-q * t) * np.sqrt(t) * pdf_d1;\n",
    "    \n",
    "    return (price, delta, gamma, vega, theta, rho)"
   ]
  },
  {
   "cell_type": "code",
   "execution_count": null,
   "metadata": {},
   "outputs": [],
   "source": [
    "stockPrice = np.array(cfBlackScholes.stockPrice)\n",
    "strikePrice = np.array(cfBlackScholes.strikePrice)\n",
    "volatility = np.array(cfBlackScholes.volatility)\n",
    "riskFreeRate = np.array(cfBlackScholes.riskFreeRate)\n",
    "timeToMaturity = np.array(cfBlackScholes.timeToMaturity)\n",
    "\n",
    "optionPrice = np.ndarray(numAssets, dtype = np.float32)\n",
    "delta = np.ndarray(numAssets, dtype = np.float32)\n",
    "gamma = np.ndarray(numAssets, dtype = np.float32)\n",
    "vega = np.ndarray(numAssets, dtype = np.float32)\n",
    "theta = np.ndarray(numAssets, dtype = np.float32)\n",
    "rho = np.ndarray(numAssets, dtype = np.float32)"
   ]
  },
  {
   "cell_type": "code",
   "execution_count": null,
   "metadata": {},
   "outputs": [],
   "source": [
    "start = int(round(time.time() * 1000000))\n",
    "\n",
    "(optionPrice, delta, gamma, vega, theta, rho) = CFBlackScholesSW(stockPrice, volatility, riskFreeRate, timeToMaturity, strikePrice, 0, OptionType.Put)\n",
    "\n",
    "end = int(round(time.time() * 1000000))"
   ]
  },
  {
   "cell_type": "code",
   "execution_count": null,
   "metadata": {},
   "outputs": [],
   "source": [
    "print(\"+-------+-----------+----------------+--------------+---------------+---------------+---------------+\")\n",
    "print(\"| Index | Price     |     Delta      |     Gamma    |     Vega      |     Theta     |     Rho       |\")\n",
    "print(\"+-------+-----------+----------------+--------------+---------------+---------------+---------------+\")\n",
    "\n",
    "for loop in range(0, 15) :\n",
    "    print(loop,\"\\t%9.5f\"%optionPrice[loop],\"\\t%9.5f\"%delta[loop], \"\\t%9.5f\"%gamma[loop],\"\\t%9.5f\"%vega[loop],\\\n",
    "          \"\\t%9.5f\"%theta[loop],\"\\t%9.5f\"%rho[loop])"
   ]
  },
  {
   "cell_type": "code",
   "execution_count": null,
   "metadata": {},
   "outputs": [],
   "source": [
    "print(\"SW run took\", end - start, \"microseconds\")"
   ]
  },
  {
   "cell_type": "code",
   "execution_count": null,
   "metadata": {},
   "outputs": [],
   "source": [
    "print(\"Speedup: \", (end - start) / cfBlackScholes.lastruntime())"
   ]
  }
 ],
 "metadata": {
  "kernelspec": {
   "display_name": "Python 3",
   "language": "python",
   "name": "python3"
  },
  "language_info": {
   "codemirror_mode": {
    "name": "ipython",
    "version": 3
   },
   "file_extension": ".py",
   "mimetype": "text/x-python",
   "name": "python",
   "nbconvert_exporter": "python",
   "pygments_lexer": "ipython3",
   "version": "3.7.5"
  }
 },
 "nbformat": 4,
 "nbformat_minor": 4
}
