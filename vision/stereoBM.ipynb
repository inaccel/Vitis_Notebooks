{
 "cells": [
  {
   "cell_type": "code",
   "execution_count": null,
   "metadata": {},
   "outputs": [],
   "source": [
    "from matplotlib import pyplot as plt\n",
    "import cv2 as cv\n",
    "import inaccel.coral as inaccel\n",
    "import numpy as np"
   ]
  },
  {
   "cell_type": "markdown",
   "metadata": {},
   "source": [
    "### Read the two images"
   ]
  },
  {
   "cell_type": "code",
   "execution_count": null,
   "metadata": {},
   "outputs": [],
   "source": [
    "left_img = cv.imread('data/left.png')\n",
    "right_img = cv.imread('data/right.png')"
   ]
  },
  {
   "cell_type": "code",
   "execution_count": null,
   "metadata": {},
   "outputs": [],
   "source": [
    "plt.figure(num = None, figsize = (10, 10), dpi = 80, facecolor = 'w', edgecolor = 'k')\n",
    "plt.imshow(left_img)\n",
    "plt.title('left')\n",
    "plt.show()\n",
    "\n",
    "plt.figure(num = None, figsize = (10, 10), dpi = 80, facecolor = 'w', edgecolor = 'k')\n",
    "plt.imshow(right_img)\n",
    "plt.title('right')\n",
    "plt.show()"
   ]
  },
  {
   "cell_type": "markdown",
   "metadata": {},
   "source": [
    "### Prepare the input/output ndarrays"
   ]
  },
  {
   "cell_type": "code",
   "execution_count": null,
   "metadata": {},
   "outputs": [],
   "source": [
    "with inaccel.allocator:\n",
    "    left_mat = np.array(left_img[:,:,0])\n",
    "    right_mat = np.array(right_img[:,:,0])\n",
    "    disp_mat = np.ndarray(left_img.shape[0:2], dtype = np.uint16)\n",
    "\n",
    "    cameraMA_l = np.array([933.173, 0.0, 663.451, 0.0, 933.173, 377.015, 0.0, 0.0, 1.0], dtype = np.float32)\n",
    "    cameraMA_r = np.array([933.467, 0.0, 678.297, 0.0, 933.467, 359.623, 0.0, 0.0, 1.0], dtype = np.float32)\n",
    "\n",
    "    distC_l = np.array([-0.169398, 0.0227329, 0.0, 0.0, 0.0], dtype = np.float32)\n",
    "    distC_r = np.array([-0.170581, 0.0249444, 0.0, 0.0, 0.0], dtype = np.float32)\n",
    "\n",
    "    irA_l = np.array([0.0011976323, -0.0000000019, -0.8153011732, 0.0000000007, 0.0011976994, \\\n",
    "                      -0.4422348617,  0.0000126839,  0.0000001064, 0.9913820905], dtype=np.float32)\n",
    "    irA_r = np.array([0.0011976994,  0.0000000000, -0.8047567905, -0.0000000000, 0.0011976994, \\\n",
    "                      -0.4420566166, -0.0000000000, -0.0000001064,  1.0000392898], dtype=np.float32)\n",
    "\n",
    "    bm_state_arr = np.array([0, 15, 31, 15, 0, 48, 20, 15, 16, 3, 0], dtype = np.int32)"
   ]
  },
  {
   "cell_type": "markdown",
   "metadata": {},
   "source": [
    "### Generate a new acceleration request for stereoBM"
   ]
  },
  {
   "cell_type": "code",
   "execution_count": null,
   "metadata": {},
   "outputs": [],
   "source": [
    "req = inaccel.request('com.xilinx.vitis.vision.stereoBM')\n",
    "req.arg(left_mat).arg(right_mat)\n",
    "req.arg(disp_mat)\n",
    "req.arg(cameraMA_l).arg(cameraMA_r)\n",
    "req.arg(distC_l).arg(distC_r)\n",
    "req.arg(irA_l).arg(irA_r)\n",
    "req.arg(bm_state_arr)\n",
    "req.arg(np.int32(left_img.shape[0]))\n",
    "req.arg(np.int32(right_img.shape[1]))"
   ]
  },
  {
   "cell_type": "markdown",
   "metadata": {},
   "source": [
    "### Submit that request to Coral and wait for it's completion "
   ]
  },
  {
   "cell_type": "code",
   "execution_count": null,
   "metadata": {},
   "outputs": [],
   "source": [
    "inaccel.submit(req).result()"
   ]
  },
  {
   "cell_type": "code",
   "execution_count": null,
   "metadata": {},
   "outputs": [],
   "source": [
    "disp_img = (disp_mat.view(np.ndarray) * (256.0 / 48.0) / (16.0)).astype(np.uint8)\n",
    "\n",
    "plt.figure(num = None, figsize = (10, 10), dpi = 80, facecolor = 'w', edgecolor = 'k')\n",
    "plt.imshow(disp_img, cmap = 'gray', vmin = 0, vmax = 255)\n",
    "plt.title('disparity')\n",
    "plt.show()"
   ]
  }
 ],
 "metadata": {
  "kernelspec": {
   "display_name": "Python 3",
   "language": "python",
   "name": "python3"
  },
  "language_info": {
   "codemirror_mode": {
    "name": "ipython",
    "version": 3
   },
   "file_extension": ".py",
   "mimetype": "text/x-python",
   "name": "python",
   "nbconvert_exporter": "python",
   "pygments_lexer": "ipython3",
   "version": "3.8.6"
  }
 },
 "nbformat": 4,
 "nbformat_minor": 4
}
