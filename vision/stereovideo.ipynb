{
 "cells": [
  {
   "cell_type": "code",
   "execution_count": 14,
   "metadata": {},
   "outputs": [],
   "source": [
    "step = int(16)\n",
    "input_video = \"data/chair021.mp4\"\n",
    "output_video = \"data/output.mp4\""
   ]
  },
  {
   "cell_type": "code",
   "execution_count": 42,
   "metadata": {},
   "outputs": [],
   "source": [
    "import cv2 as cv\n",
    "import inaccel.coral as inaccel\n",
    "import numpy as np\n",
    "from IPython.display import Video, HTML\n",
    "from tqdm import tqdm\n",
    "import math\n",
    "from matplotlib import pyplot as plt"
   ]
  },
  {
   "cell_type": "code",
   "execution_count": 48,
   "metadata": {},
   "outputs": [],
   "source": [
    "def play_vid(vid_list):\n",
    "    return HTML('<table><tr>' +\n",
    "                ''.join(['<td><video alt=\"test\" controls><source src=' + vid + ' type=\"video/mp4\"></video></td>'\n",
    "                         for vid in vid_list]) +\n",
    "                '</tr></table>'\n",
    "                )"
   ]
  },
  {
   "cell_type": "code",
   "execution_count": 53,
   "metadata": {},
   "outputs": [
    {
     "data": {
      "text/html": [
       "<table><tr><td><video alt=\"test\" controls><source src=data/chair021.mp4 type=\"video/mp4\"></video></td></tr></table>"
      ],
      "text/plain": [
       "<IPython.core.display.HTML object>"
      ]
     },
     "execution_count": 53,
     "metadata": {},
     "output_type": "execute_result"
    }
   ],
   "source": [
    "play_vid([input_video])"
   ]
  },
  {
   "cell_type": "code",
   "execution_count": 54,
   "metadata": {},
   "outputs": [],
   "source": [
    "cameraMA_l = []\n",
    "cameraMA_r = []\n",
    "distC_l = []\n",
    "distC_r = []\n",
    "irA_l = []\n",
    "irA_r = []\n",
    "bm_state_arr = []\n",
    "for j in range(step):\n",
    "    cameraMA_l.append(inaccel.array([933.173, 0.0, 663.451, 0.0, 933.173, 377.015, 0.0, 0.0, 1.0], dtype=np.float32))\n",
    "    cameraMA_r.append(inaccel.array([933.467, 0.0, 678.297, 0.0, 933.467, 359.623, 0.0, 0.0, 1.0], dtype=np.float32))\n",
    "\n",
    "    distC_l.append(inaccel.array([-0.169398, 0.0227329, 0.0, 0.0, 0.0], dtype=np.float32))\n",
    "    distC_r.append(inaccel.array([-0.170581, 0.0249444, 0.0, 0.0, 0.0], dtype=np.float32))\n",
    "\n",
    "    irA_l.append(inaccel.array([0.0011976323, -0.0000000019, -0.8153011732, 0.0000000007, 0.0011976994, \\\n",
    "                               -0.4422348617,  0.0000126839,  0.0000001064, 0.9913820905], dtype=np.float32))\n",
    "    irA_r.append(inaccel.array([0.0011976994,  0.0000000000, -0.8047567905, -0.0000000000, 0.0011976994, \\\n",
    "                               -0.4420566166, -0.0000000000, -0.0000001064,  1.0000392898], dtype=np.float32))\n",
    "\n",
    "    bm_state_arr.append(inaccel.array([0, 15, 31, 15, 0, 48, 20, 15, 16, 3, 0], dtype=np.int32))\n"
   ]
  },
  {
   "cell_type": "code",
   "execution_count": 55,
   "metadata": {},
   "outputs": [
    {
     "name": "stderr",
     "output_type": "stream",
     "text": [
      "100%|██████████| 112/112 [00:23<00:00,  4.68it/s]\n"
     ]
    }
   ],
   "source": [
    "vid = cv.VideoCapture(input_video)\n",
    "if (vid.isOpened()== False): \n",
    "      print(\"Error opening video stream or file\")\n",
    "\n",
    "frame_num = int(vid.get(cv.CAP_PROP_FRAME_COUNT))\n",
    "height = int(vid.get(cv.CAP_PROP_FRAME_HEIGHT))\n",
    "width  = int(vid.get(cv.CAP_PROP_FRAME_WIDTH)/2)\n",
    "# fourcc  = int(vid.get(cv.CAP_PROP_FOURCC))\n",
    "\n",
    "fourcc = cv.VideoWriter_fourcc(*'mp4v')\n",
    "out = cv.VideoWriter(output_video, fourcc, 20.0, (height,width))\n",
    "\n",
    "frames = []\n",
    "sessions = []\n",
    "left_mats = []\n",
    "right_mats = []\n",
    "disp_mats = []\n",
    "for i in tqdm(range(math.ceil(frame_num/step))):\n",
    "    frames.clear()\n",
    "    sessions.clear()\n",
    "    left_mats.clear()\n",
    "    right_mats.clear()\n",
    "    disp_mats.clear()\n",
    "    \n",
    "    for j in range(step):\n",
    "        ret, frame = vid.read()\n",
    "        if ret == False: \n",
    "            break\n",
    "        else:\n",
    "            frames.append(frame)\n",
    "\n",
    "    for j in range(len(frames)):\n",
    "        frame_left = cv.cvtColor(cv.resize(frames[j][:,:width,:], (1280, 720)), cv.COLOR_BGR2GRAY)\n",
    "        frame_right = cv.cvtColor(cv.resize(frames[j][:,width:,:], (1280, 720)), cv.COLOR_BGR2GRAY)\n",
    "            \n",
    "        left_mats.append(inaccel.array(frame_left))\n",
    "        right_mats.append(inaccel.array(frame_right))\n",
    "        \n",
    "        disp_mats.append(inaccel.ndarray((720, 1280), dtype=np.uint16))\n",
    "\n",
    "        req = inaccel.request('com.xilinx.vitis.vision.stereoBM')\n",
    "        req.arg(left_mats[j])\n",
    "        req.arg(right_mats[j])\n",
    "        req.arg(disp_mats[j])\n",
    "        req.arg(cameraMA_l[j])\n",
    "        req.arg(cameraMA_r[j])\n",
    "        req.arg(distC_l[j])\n",
    "        req.arg(distC_r[j])\n",
    "        req.arg(irA_l[j])\n",
    "        req.arg(irA_r[j])\n",
    "        req.arg(bm_state_arr[j])\n",
    "        req.arg(np.int32(720))\n",
    "        req.arg(np.int32(1280))\n",
    "        sessions.append(inaccel.submit(req))\n",
    "            \n",
    "    for j in range(len(sessions)):\n",
    "        inaccel.wait(sessions[j])\n",
    "        disp_img = (disp_mats[j].view(np.ndarray)*(256.0 / 48.0) / (16.0)).astype(np.uint8)\n",
    "        disp_img = cv.resize(cv.cvtColor(disp_img, cv.COLOR_GRAY2BGR), (height,width))\n",
    "        out.write(disp_img)\n",
    "vid.release()\n",
    "out.release()"
   ]
  },
  {
   "cell_type": "code",
   "execution_count": 52,
   "metadata": {},
   "outputs": [
    {
     "data": {
      "text/html": [
       "<table><tr><td><video alt=\"test\" controls><source src=data/chair021.mp4 type=\"video/mp4\"></video></td><td><video alt=\"test\" controls><source src=data/output.mp4 type=\"video/mp4\"></video></td></tr></table>"
      ],
      "text/plain": [
       "<IPython.core.display.HTML object>"
      ]
     },
     "execution_count": 52,
     "metadata": {},
     "output_type": "execute_result"
    }
   ],
   "source": [
    "play_vid([input_video, output_video])"
   ]
  },
  {
   "cell_type": "code",
   "execution_count": 57,
   "metadata": {},
   "outputs": [
    {
     "name": "stdout",
     "output_type": "stream",
     "text": [
      "Traceback (most recent call last):\r\n",
      "  File \"/usr/local/bin/jupyter-nbextension\", line 8, in <module>\r\n",
      "    sys.exit(main())\r\n",
      "  File \"/usr/local/lib/python3.7/site-packages/jupyter_core/application.py\", line 268, in launch_instance\r\n",
      "    return super(JupyterApp, cls).launch_instance(argv=argv, **kwargs)\r\n",
      "  File \"/usr/local/lib/python3.7/site-packages/traitlets/config/application.py\", line 664, in launch_instance\r\n",
      "    app.start()\r\n",
      "  File \"/usr/local/lib/python3.7/site-packages/notebook/nbextensions.py\", line 983, in start\r\n",
      "    super(NBExtensionApp, self).start()\r\n",
      "  File \"/usr/local/lib/python3.7/site-packages/jupyter_core/application.py\", line 257, in start\r\n",
      "    self.subapp.start()\r\n",
      "  File \"/usr/local/lib/python3.7/site-packages/notebook/nbextensions.py\", line 711, in start\r\n",
      "    self.install_extensions()\r\n",
      "  File \"/usr/local/lib/python3.7/site-packages/notebook/nbextensions.py\", line 672, in install_extensions\r\n",
      "    raise ValueError(\"Only one nbextension allowed at a time. \"\r\n",
      "ValueError: Only one nbextension allowed at a time. Call multiple times to install multiple extensions.\r\n"
     ]
    }
   ],
   "source": [
    "!jupyter nbextension install @jupyter-widgets/jupyterlab-manager jupyter-webrtc"
   ]
  },
  {
   "cell_type": "code",
   "execution_count": 79,
   "metadata": {},
   "outputs": [
    {
     "name": "stdout",
     "output_type": "stream",
     "text": [
      "An error occured.\r\n",
      "ValueError: Please install nodejs 5+ and npm before continuing installation. nodejs may be installed using conda or directly from the nodejs website.\r\n",
      "See the log file for details:  /tmp/jupyterlab-debug-_qwmg6w0.log\r\n"
     ]
    }
   ],
   "source": [
    "!/home/jovyan/.local/bin/jupyter-labextension install @jupyter-widgets/jupyterlab-manager jupyter-webrtc"
   ]
  },
  {
   "cell_type": "code",
   "execution_count": 80,
   "metadata": {},
   "outputs": [
    {
     "name": "stdout",
     "output_type": "stream",
     "text": [
      "/bin/sh: 1: conda: not found\r\n"
     ]
    }
   ],
   "source": [
    "!conda install nodejs"
   ]
  },
  {
   "cell_type": "code",
   "execution_count": 75,
   "metadata": {},
   "outputs": [
    {
     "name": "stdout",
     "output_type": "stream",
     "text": [
      "Traceback (most recent call last):\n",
      "  File \"/usr/local/bin/jupyter\", line 8, in <module>\n",
      "    sys.exit(main())\n",
      "  File \"/usr/local/lib/python3.7/site-packages/jupyter_core/command.py\", line 247, in main\n",
      "    command = _jupyter_abspath(subcommand)\n",
      "  File \"/usr/local/lib/python3.7/site-packages/jupyter_core/command.py\", line 134, in _jupyter_abspath\n",
      "    'Jupyter command `{}` not found.'.format(jupyter_subcommand)\n",
      "Exception: Jupyter command `jupyter-contrib` not found.\n",
      "Enabling notebook extension jupyter-js-widgets/extension...\n",
      "      - Validating: \u001b[32mOK\u001b[0m\n",
      "Traceback (most recent call last):\n",
      "  File \"/usr/local/bin/jupyter\", line 8, in <module>\n",
      "    sys.exit(main())\n",
      "  File \"/usr/local/lib/python3.7/site-packages/jupyter_core/command.py\", line 247, in main\n",
      "    command = _jupyter_abspath(subcommand)\n",
      "  File \"/usr/local/lib/python3.7/site-packages/jupyter_core/command.py\", line 134, in _jupyter_abspath\n",
      "    'Jupyter command `{}` not found.'.format(jupyter_subcommand)\n",
      "Exception: Jupyter command `jupyter-labextension` not found.\n"
     ]
    }
   ],
   "source": [
    "!jupyter contrib nbextension install --user\n",
    "!jupyter nbextension enable --py widgetsnbextension\n",
    "!jupyter labextension install @jupyter-widgets/jupyterlab-manager@0.38"
   ]
  },
  {
   "cell_type": "code",
   "execution_count": 83,
   "metadata": {},
   "outputs": [
    {
     "name": "stdout",
     "output_type": "stream",
     "text": [
      "An error occured.\n",
      "ValueError: Please install nodejs 5+ and npm before continuing installation. nodejs may be installed using conda or directly from the nodejs website.\n",
      "See the log file for details:  /tmp/jupyterlab-debug-ckqq2zi_.log\n",
      "Enabling: jupyterlab_iframe.extension\n",
      "- Writing config: /home/jovyan/.jupyter\n",
      "    - Validating...\n",
      "      jupyterlab_iframe.extension  \u001b[32mOK\u001b[0m\n"
     ]
    }
   ],
   "source": [
    "!/home/jovyan/.local/bin/jupyter-labextension install jupyterlab_iframe\n",
    "!jupyter serverextension enable --py jupyterlab_iframe"
   ]
  },
  {
   "cell_type": "code",
   "execution_count": null,
   "metadata": {},
   "outputs": [],
   "source": []
  }
 ],
 "metadata": {
  "kernelspec": {
   "display_name": "Python 3",
   "language": "python",
   "name": "python3"
  },
  "language_info": {
   "codemirror_mode": {
    "name": "ipython",
    "version": 3
   },
   "file_extension": ".py",
   "mimetype": "text/x-python",
   "name": "python",
   "nbconvert_exporter": "python",
   "pygments_lexer": "ipython3",
   "version": "3.7.5"
  }
 },
 "nbformat": 4,
 "nbformat_minor": 4
}
