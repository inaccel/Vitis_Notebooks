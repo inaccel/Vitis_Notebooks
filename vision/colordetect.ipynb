{
 "cells": [
  {
   "cell_type": "code",
   "execution_count": null,
   "metadata": {},
   "outputs": [],
   "source": [
    "import cv2 as cv\n",
    "import inaccel.coral as inaccel\n",
    "import numpy as np\n",
    "import time\n",
    "from matplotlib import pyplot as plt"
   ]
  },
  {
   "cell_type": "markdown",
   "metadata": {},
   "source": [
    "### Create array and ndarrays for each argument of the accelerator"
   ]
  },
  {
   "cell_type": "code",
   "execution_count": null,
   "metadata": {},
   "outputs": [],
   "source": [
    "FILTER_SIZE=3\n",
    "# Open input image:\n",
    "path = 'data/im0.jpeg'\n",
    "in_img = inaccel.array(cv.imread(path,cv.IMREAD_COLOR), dtype = np.uint8)\n",
    "# Allocate the memory for output images:\n",
    "out_img = inaccel.ndarray((in_img.shape[0],in_img.shape[1]), dtype = np.uint8)\n",
    "\n",
    "# Create vectors holding thresholds and shape:\n",
    "high_thresh = inaccel.ndarray((FILTER_SIZE * FILTER_SIZE), dtype = np.uint8)\n",
    "low_thresh = inaccel.ndarray((FILTER_SIZE * FILTER_SIZE), dtype = np.uint8)\n",
    "shape = inaccel.ndarray((FILTER_SIZE * FILTER_SIZE), dtype = np.uint8)\n",
    "\n",
    "for i in range(FILTER_SIZE*FILTER_SIZE):\n",
    "    shape[i] = 1\n",
    "\n",
    "# Define the low and high thresholds\n",
    "# Want to grab 3 colors (Yellow, Green, Red) for the input image\n",
    "low_thresh[0] = 22 # Lower boundary for Yellow\n",
    "low_thresh[1] = 150\n",
    "low_thresh[2] = 60\n",
    "\n",
    "high_thresh[0] = 38 # Upper boundary for Yellow\n",
    "high_thresh[1] = 255\n",
    "high_thresh[2] = 255\n",
    "\n",
    "low_thresh[3] = 38 # Lower boundary for Green\n",
    "low_thresh[4] = 150\n",
    "low_thresh[5] = 60\n",
    "\n",
    "high_thresh[3] = 75 # Upper boundary for Green\n",
    "high_thresh[4] = 255\n",
    "high_thresh[5] = 255\n",
    "\n",
    "low_thresh[6] = 160 # Lower boundary for Red\n",
    "low_thresh[7] = 150\n",
    "low_thresh[8] = 60\n",
    "\n",
    "high_thresh[6] = 179 # Upper boundary for Red\n",
    "high_thresh[7] = 255\n",
    "high_thresh[8] = 255"
   ]
  },
  {
   "cell_type": "markdown",
   "metadata": {},
   "source": [
    "### Create a new request for colordetect accelerator"
   ]
  },
  {
   "cell_type": "code",
   "execution_count": null,
   "metadata": {},
   "outputs": [],
   "source": [
    "# Create a request:\n",
    "request = inaccel.request('com.xilinx.vitis.vision.colordetect')\n",
    "\n",
    "# Set request arguments:\n",
    "request.arg(in_img)\n",
    "request.arg(low_thresh)\n",
    "request.arg(high_thresh)\n",
    "request.arg(shape)\n",
    "request.arg(out_img)\n",
    "request.arg(np.int32(in_img.shape[0]))\n",
    "request.arg(np.int32(in_img.shape[1]))"
   ]
  },
  {
   "cell_type": "markdown",
   "metadata": {},
   "source": [
    "### Submit that request to Coral and wait for it's completion "
   ]
  },
  {
   "cell_type": "code",
   "execution_count": null,
   "metadata": {},
   "outputs": [],
   "source": [
    "# submit and wait request:\n",
    "start=time.time()*1000\n",
    "inaccel.wait(inaccel.submit(request))\n",
    "print(\"Request Total Time:\",time.time()*1000-start)"
   ]
  },
  {
   "cell_type": "markdown",
   "metadata": {},
   "source": [
    "### Show input and output images"
   ]
  },
  {
   "cell_type": "code",
   "execution_count": null,
   "metadata": {},
   "outputs": [],
   "source": [
    "plt.figure(num = None, figsize = (10, 10), dpi = 100)\n",
    "plt.imshow(cv.imread(path,cv.IMREAD_COLOR))\n",
    "plt.title('input')\n",
    "plt.show() \n",
    "\n",
    "disp_img = (out_img.view(np.ndarray)).astype(np.uint8)\n",
    "\n",
    "plt.figure(num = None, figsize = (10, 10), dpi = 100)\n",
    "plt.imshow(disp_img, cmap = 'gray')\n",
    "plt.title('output')\n",
    "plt.show()"
   ]
  },
  {
   "cell_type": "code",
   "execution_count": null,
   "metadata": {},
   "outputs": [],
   "source": []
  }
 ],
 "metadata": {
  "kernelspec": {
   "display_name": "Python 3",
   "language": "python",
   "name": "python3"
  },
  "language_info": {
   "codemirror_mode": {
    "name": "ipython",
    "version": 3
   },
   "file_extension": ".py",
   "mimetype": "text/x-python",
   "name": "python",
   "nbconvert_exporter": "python",
   "pygments_lexer": "ipython3",
   "version": "3.7.6"
  }
 },
 "nbformat": 4,
 "nbformat_minor": 4
}
